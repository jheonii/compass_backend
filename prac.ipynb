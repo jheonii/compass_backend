{
 "cells": [
  {
   "cell_type": "code",
   "execution_count": 24,
   "metadata": {},
   "outputs": [],
   "source": [
    "import pandas as pd\n",
    "import numpy as np\n",
    "from scipy.stats import hypergeom\n",
    "import re\n"
   ]
  },
  {
   "cell_type": "code",
   "execution_count": 25,
   "metadata": {},
   "outputs": [],
   "source": [
    "geneSet='ACCN1,CXCL1,    RSPO3'"
   ]
  },
  {
   "cell_type": "code",
   "execution_count": 35,
   "metadata": {},
   "outputs": [],
   "source": [
    "geneSet_list = re.sub(r\"\\s\",\"\", geneSet)"
   ]
  },
  {
   "cell_type": "code",
   "execution_count": 36,
   "metadata": {},
   "outputs": [
    {
     "data": {
      "text/plain": "'ACCN1,CXCL1,RSPO3'"
     },
     "execution_count": 36,
     "metadata": {},
     "output_type": "execute_result"
    }
   ],
   "source": [
    "geneSet_list"
   ]
  },
  {
   "cell_type": "code",
   "execution_count": 5,
   "metadata": {},
   "outputs": [],
   "source": [
    "alias_data = pd.read_csv('gdac_entrez.csv')\n"
   ]
  },
  {
   "cell_type": "code",
   "execution_count": 72,
   "metadata": {},
   "outputs": [],
   "source": [
    "q005 = pd.read_csv('0.05.txt', sep = \"\\t\")\n",
    "q001 = pd.read_csv('0.01.txt', sep = \"\\t\")\n",
    "q0001 = pd.read_csv('0.001.txt', sep = \"\\t\")"
   ]
  },
  {
   "cell_type": "code",
   "execution_count": 74,
   "metadata": {},
   "outputs": [],
   "source": [
    "q005_selec = q005.iloc[:,lenGL]\n",
    "q001_selec = q001.iloc[:,lenGL]\n",
    "q0001_selec = q0001.iloc[:,lenGL]"
   ]
  },
  {
   "cell_type": "code",
   "execution_count": 75,
   "metadata": {},
   "outputs": [],
   "source": [
    "new_fdr = pd.DataFrame()\n",
    "new_fdr['q005'] = q005_selec\n",
    "new_fdr['q001'] = q001_selec\n",
    "new_fdr['q0001'] = q0001_selec"
   ]
  },
  {
   "cell_type": "code",
   "execution_count": null,
   "metadata": {},
   "outputs": [],
   "source": [
    "new_fdr.fillna(0)\n",
    "new_fdr"
   ]
  },
  {
   "cell_type": "code",
   "execution_count": 7,
   "metadata": {},
   "outputs": [],
   "source": [
    "geneSet_list=['DLGAP5', 'ETV4', 'ACVR2A', 'GDF2', 'TAOK1', 'MUC13', 'FPR1', 'MDM2', 'CCDC88A', 'PTPN13', 'RHOBTB1', 'DLG1', 'MET', 'SPRED2', 'LRP6', 'ACKR3', 'ALDH1A2', 'EIF4B', 'DNM2', 'PPARG', 'CDKN1B', 'NCOA1', 'CSNK1A1', 'ARHGEF10L', 'MAPRE1', 'GLI3', 'CXXC5', 'GABRG2', 'MAP3K7', 'FGF23', 'STAT6', 'CFTR', 'FASN', 'PIK3R3', 'PGF', 'AXIN2', 'CREBBP', 'MSI2', 'DACT1', 'SMAD2', 'RGS3', 'ARHGAP20', 'BUB1B', 'JUNB', 'RNF111', 'DUSP1', 'USP7', 'GNA11', 'ERBB3', 'ELF3', 'FYN', 'USF1', 'DSP', 'AMOT', 'MTA1', 'CENPF', 'SH3GL2', 'HDAC7', 'NTRK1', 'BIRC3', 'CTNND1', 'LYL1', 'PTCH1', 'ABR', 'CHRDL1', 'ABI1', 'RAP1A', 'CALCR', 'EP300', 'GLI2', 'PAK1', 'SGK1', 'BRAF', 'RXRA', 'FGFR2', 'ID1', 'LIMK1', 'RALB', 'IL2RG', 'FZD4', 'CLIP1', 'FGF7', 'INSL3', 'SOS1', 'TSC1', 'ARAF', 'ARHGAP24', 'PIK3CG', 'TRHR', 'APLNR', 'AKAP13', 'GRM1', 'IL3', 'SOX3', 'WWTR1', 'LATS2', 'VAV1', 'ARHGEF2', 'FES', 'CYLD', 'SYDE1', 'GPR161', 'FSTL3', 'S100A8', 'PENK', 'RHOH', 'IGF1R', 'SPEN', 'RSPO2', 'CCND1', 'MAML2', 'KRAS', 'TCF7L2', 'SNAI2', 'PRKAA2', 'WNT5A', 'RHOB', 'NFKB1', 'KDM4C', 'TCF7L1']\n",
    "geneSetType = 'str'"
   ]
  },
  {
   "cell_type": "code",
   "execution_count": 1,
   "metadata": {},
   "outputs": [],
   "source": [
    "geneSet = ['9787', '2118', '92', '2658', '57551', '56667', '2357', '4193', '55704', '5783', '9886', '1739', '4233', '200734', '4040', '57007', '8854', '1975', '1785', '5468', '1027', '8648', '1452', '55160', '22919', '2737', '51523', '2566', '6885', '8074', '6778', '1080', '2194', '8503', '5228', '8313', '1387', '124540', '51339', '4087', '5998', '57569', '701', '3726', '54778', '1843', '7874', '2767', '2065', '1999', '2534', '7391', '1832', '154796', '9112', '1063', '6456', '51564', '4914', '330', '1500', '4066', '5727', '29', '91851', '10006', '5906', '799', '2033', '2736', '5058', '6446', '673', '6256', '2263', '3397', '3984', '5899', '3561', '8322', '6249', '2252', '3640', '6654', '7248', '369', '83478', '5294', '7201', '187', '11214', '2911', '3562', '6658', '25937', '26524', '7409', '9181', '2242', '1540', '85360', '23432', '10272', '6279', '5179', '399', '3480', '23013', '340419', '595', '84441', '3845', '6934', '6591', '5563', '7474', '388', '4790', '23081', '83439', '84033', '4615', '80243', '817', '51741', '5155', '54894', '7514', '9639', '2034', '857', '3280', '8312', '5592', '27123', '1627', '4772', '6497', '1977', '5585', '5660', '23286', '55879', '10399', '7124', '5241', '657', '1026', '387', '836', '9619', '6423', '7074', '259293', '2554', '1852', '3688', '8294', '8877', '2776', '2919', '4089', '6000', '56924', '2146', '120', '1234', '1956', '60485', '23566', '10267', '9564', '283455', '8535', '9844', '79718', '207', '3718', '7525', '11197', '4916', '6752', '57082', '332', '84152', '5741', '51138', '2057', '7415', '8295', '90627', '9294', '51377', '142678', '5908', '525', '865', '9644', '10235', '142', '5139', '7039', '9462', '10457', '6678', '23645', '139285', '5338', '9530', '8682', '5296', '5898', '26018', '2100', '558', '2255', '3643', '5336', '2064', '598', '4928', '7058', '8997', '6714', '9735', '2852', '2670', '26469', '10672', '3082']\n",
    "geneSet_list = [int(s) for s in geneSet]"
   ]
  },
  {
   "cell_type": "code",
   "execution_count": null,
   "metadata": {},
   "outputs": [],
   "source": [
    "geneSet_list"
   ]
  },
  {
   "cell_type": "code",
   "execution_count": 12,
   "metadata": {},
   "outputs": [],
   "source": [
    "geneSet = '1,2,3,4,5,6,7,8,9,10'\n",
    "geneSetType = 'int'"
   ]
  },
  {
   "cell_type": "code",
   "execution_count": 13,
   "metadata": {},
   "outputs": [],
   "source": [
    "geneSet_list = geneSet.split(',')\n",
    "if(geneSetType == 'int'):\n",
    "    geneSet_list = [int(s) for s in geneSet_list]"
   ]
  },
  {
   "cell_type": "code",
   "execution_count": 14,
   "metadata": {},
   "outputs": [],
   "source": [
    "pathwayDB = pd.read_csv('CPDB.csv')\n",
    "pathwayDB = pathwayDB.dropna()"
   ]
  },
  {
   "cell_type": "code",
   "execution_count": 94,
   "metadata": {},
   "outputs": [
    {
     "data": {
      "text/html": "<div>\n<style scoped>\n    .dataframe tbody tr th:only-of-type {\n        vertical-align: middle;\n    }\n\n    .dataframe tbody tr th {\n        vertical-align: top;\n    }\n\n    .dataframe thead th {\n        text-align: right;\n    }\n</style>\n<table border=\"1\" class=\"dataframe\">\n  <thead>\n    <tr style=\"text-align: right;\">\n      <th></th>\n      <th>p_value</th>\n      <th>pathway</th>\n      <th>source</th>\n      <th>overlap_entrez</th>\n      <th>overlap_hgnc_symbol</th>\n      <th>size</th>\n      <th>overlap</th>\n      <th>cancer_level</th>\n    </tr>\n  </thead>\n  <tbody>\n    <tr>\n      <th>0</th>\n      <td>1.070000e-145</td>\n      <td>Signal Transduction</td>\n      <td>Reactome</td>\n      <td>9787;2118;92;2658;57551;56667;2357;4193;55704;...</td>\n      <td>DLGAP5;ETV4;ACVR2A;GDF2;TAOK1;MUC13;FPR1;MDM2;...</td>\n      <td>2432</td>\n      <td>830</td>\n      <td>1.0</td>\n    </tr>\n    <tr>\n      <th>1</th>\n      <td>2.230000e-123</td>\n      <td>Pathways in cancer - Homo sapiens (human)</td>\n      <td>KEGG</td>\n      <td>2056;2057;8202;7170;2064;25;2736;2099;2100;414...</td>\n      <td>EPO;EPOR;NCOA3;TPM3;ERBB2;ABL1;GLI2;ESR1;ESR2;...</td>\n      <td>531</td>\n      <td>311</td>\n      <td>1.0</td>\n    </tr>\n    <tr>\n      <th>2</th>\n      <td>4.600000e-77</td>\n      <td>Signaling by Receptor Tyrosine Kinases</td>\n      <td>Reactome</td>\n      <td>558;207;3643;23768;5578;6236;2255;6776;5795;70...</td>\n      <td>AXL;AKT1;INSR;FLRT2;PRKCA;RRAD;FGF10;STAT5A;PT...</td>\n      <td>464</td>\n      <td>237</td>\n      <td>1.0</td>\n    </tr>\n    <tr>\n      <th>3</th>\n      <td>1.250000e-73</td>\n      <td>EGFR1</td>\n      <td>NetPath</td>\n      <td>558;4303;3643;5336;1829;5578;207;6776;51196;20...</td>\n      <td>AXL;FOXO4;INSR;PLCG2;DSG2;PRKCA;AKT1;STAT5A;PL...</td>\n      <td>455</td>\n      <td>230</td>\n      <td>1.0</td>\n    </tr>\n    <tr>\n      <th>4</th>\n      <td>9.290000e-65</td>\n      <td>Diseases of signal transduction by growth fact...</td>\n      <td>Reactome</td>\n      <td>4067;4303;5880;7750;2264;3065;5879;4254;2065;3...</td>\n      <td>LYN;FOXO4;RAC2;ZMYM2;FGFR4;HDAC1;RAC1;KITLG;ER...</td>\n      <td>274</td>\n      <td>162</td>\n      <td>1.0</td>\n    </tr>\n    <tr>\n      <th>...</th>\n      <td>...</td>\n      <td>...</td>\n      <td>...</td>\n      <td>...</td>\n      <td>...</td>\n      <td>...</td>\n      <td>...</td>\n      <td>...</td>\n    </tr>\n    <tr>\n      <th>4569</th>\n      <td>1.000000e+00</td>\n      <td>Synthesis of substrates in N-glycan biosythesis</td>\n      <td>Reactome</td>\n      <td>84620;7264</td>\n      <td>ST6GAL2;GFUS</td>\n      <td>63</td>\n      <td>2</td>\n      <td>4.0</td>\n    </tr>\n    <tr>\n      <th>4638</th>\n      <td>1.000000e+00</td>\n      <td>Mitochondrial translation elongation</td>\n      <td>Reactome</td>\n      <td>64979;54998</td>\n      <td>MRPL36;AURKAIP1</td>\n      <td>88</td>\n      <td>2</td>\n      <td>4.0</td>\n    </tr>\n    <tr>\n      <th>4656</th>\n      <td>1.000000e+00</td>\n      <td>rRNA processing</td>\n      <td>Reactome</td>\n      <td>6194;10436</td>\n      <td>RPS6;EMG1</td>\n      <td>64</td>\n      <td>2</td>\n      <td>4.0</td>\n    </tr>\n    <tr>\n      <th>4660</th>\n      <td>1.000000e+00</td>\n      <td>Mitochondrial translation termination</td>\n      <td>Reactome</td>\n      <td>64979;54998</td>\n      <td>MRPL36;AURKAIP1</td>\n      <td>88</td>\n      <td>2</td>\n      <td>4.0</td>\n    </tr>\n    <tr>\n      <th>4661</th>\n      <td>1.000000e+00</td>\n      <td>Mitochondrial translation</td>\n      <td>Reactome</td>\n      <td>64979;54998</td>\n      <td>MRPL36;AURKAIP1</td>\n      <td>94</td>\n      <td>2</td>\n      <td>4.0</td>\n    </tr>\n  </tbody>\n</table>\n<p>3714 rows × 8 columns</p>\n</div>",
      "text/plain": "            p_value                                            pathway  \\\n0     1.070000e-145                                Signal Transduction   \n1     2.230000e-123          Pathways in cancer - Homo sapiens (human)   \n2      4.600000e-77             Signaling by Receptor Tyrosine Kinases   \n3      1.250000e-73                                              EGFR1   \n4      9.290000e-65  Diseases of signal transduction by growth fact...   \n...             ...                                                ...   \n4569   1.000000e+00    Synthesis of substrates in N-glycan biosythesis   \n4638   1.000000e+00               Mitochondrial translation elongation   \n4656   1.000000e+00                                    rRNA processing   \n4660   1.000000e+00              Mitochondrial translation termination   \n4661   1.000000e+00                          Mitochondrial translation   \n\n        source                                     overlap_entrez  \\\n0     Reactome  9787;2118;92;2658;57551;56667;2357;4193;55704;...   \n1         KEGG  2056;2057;8202;7170;2064;25;2736;2099;2100;414...   \n2     Reactome  558;207;3643;23768;5578;6236;2255;6776;5795;70...   \n3      NetPath  558;4303;3643;5336;1829;5578;207;6776;51196;20...   \n4     Reactome  4067;4303;5880;7750;2264;3065;5879;4254;2065;3...   \n...        ...                                                ...   \n4569  Reactome                                         84620;7264   \n4638  Reactome                                        64979;54998   \n4656  Reactome                                         6194;10436   \n4660  Reactome                                        64979;54998   \n4661  Reactome                                        64979;54998   \n\n                                    overlap_hgnc_symbol  size  overlap  \\\n0     DLGAP5;ETV4;ACVR2A;GDF2;TAOK1;MUC13;FPR1;MDM2;...  2432      830   \n1     EPO;EPOR;NCOA3;TPM3;ERBB2;ABL1;GLI2;ESR1;ESR2;...   531      311   \n2     AXL;AKT1;INSR;FLRT2;PRKCA;RRAD;FGF10;STAT5A;PT...   464      237   \n3     AXL;FOXO4;INSR;PLCG2;DSG2;PRKCA;AKT1;STAT5A;PL...   455      230   \n4     LYN;FOXO4;RAC2;ZMYM2;FGFR4;HDAC1;RAC1;KITLG;ER...   274      162   \n...                                                 ...   ...      ...   \n4569                                       ST6GAL2;GFUS    63        2   \n4638                                    MRPL36;AURKAIP1    88        2   \n4656                                          RPS6;EMG1    64        2   \n4660                                    MRPL36;AURKAIP1    88        2   \n4661                                    MRPL36;AURKAIP1    94        2   \n\n      cancer_level  \n0              1.0  \n1              1.0  \n2              1.0  \n3              1.0  \n4              1.0  \n...            ...  \n4569           4.0  \n4638           4.0  \n4656           4.0  \n4660           4.0  \n4661           4.0  \n\n[3714 rows x 8 columns]"
     },
     "execution_count": 94,
     "metadata": {},
     "output_type": "execute_result"
    }
   ],
   "source": [
    "pathwayDB"
   ]
  },
  {
   "cell_type": "code",
   "execution_count": 96,
   "metadata": {},
   "outputs": [],
   "source": [
    "if(geneSetType == 'int'):\n",
    "  pathwayDB_sort = pathwayDB.iloc[:,[1,2,3,7]]\n",
    "else:\n",
    "  pathwayDB_sort = pathwayDB.iloc[:,[1,2,4,7]]"
   ]
  },
  {
   "cell_type": "code",
   "execution_count": 100,
   "metadata": {},
   "outputs": [
    {
     "data": {
      "text/plain": "['64979', '54998']"
     },
     "execution_count": 100,
     "metadata": {},
     "output_type": "execute_result"
    }
   ],
   "source": [
    "  selected_genes = pathwayDB_sort.iloc[id,2].split(';')\n",
    "  selected_genes"
   ]
  },
  {
   "cell_type": "code",
   "execution_count": 89,
   "metadata": {},
   "outputs": [],
   "source": [
    "pvalue = []\n",
    "qvalue = []\n",
    "pathway=[]\n",
    "source=[]\n",
    "size = []\n",
    "overlap = []\n",
    "cancerLevel = []\n",
    "\n",
    "\n",
    "for id in range(len(pathwayDB)):\n",
    "  selected_genes = pathwayDB_sort.iloc[id,2].split(';')\n",
    "  selected_list = [ int(s) for s in selected_genes]\n",
    "  intersection = list(set(selected_list) & set(geneSet_list))\n",
    "  \n",
    "  selected_pvalue=(round(hypergeom.sf(len(intersection)-1, 20501,\n",
    "                  len(geneSet_list), len(selected_list)), 4))\n",
    "  pvalue.append(selected_pvalue)\n",
    "  selected_pathway = pathwayDB_sort.iloc[id,0]\n",
    "  pathway.append(selected_pathway)\n",
    "  size.append(len(selected_list))\n",
    "  overlap.append(len(intersection))\n",
    "  selected_cancerLevel = pathwayDB_sort.iloc[id,3]\n",
    "  cancerLevel.append(selected_cancerLevel)\n",
    "  \n",
    "  #size가 len(selected_list)\n",
    "  gsize = len(selected_list)-1\n",
    "  fdr005 = new_fdr.iloc[gsize,0]\n",
    "  fdr001 = new_fdr.iloc[gsize,1]\n",
    "  fdr0001 = new_fdr.iloc[gsize,2]\n",
    "\n",
    "  if selected_pvalue < fdr0001:\n",
    "    selected_qval = 0.001\n",
    "  elif selected_pvalue < fdr001:\n",
    "    selected_qval = 0.01\n",
    "  elif selected_pvalue < fdr005:\n",
    "    selected_qval = 0.05\n",
    "  else:\n",
    "    selected_qval = 1\n",
    "  qvalue.append(selected_qval)\n",
    "  \n",
    "  "
   ]
  },
  {
   "cell_type": "markdown",
   "metadata": {},
   "source": [
    "# HGNC symbol"
   ]
  },
  {
   "cell_type": "code",
   "execution_count": null,
   "metadata": {},
   "outputs": [],
   "source": [
    "pvalue = []\n",
    "pathway=[]\n",
    "size = []\n",
    "overlap = []\n",
    "cancerLevel = []\n",
    "\n",
    "for id in range(len(pathwayDB)):\n",
    "  selected_genes = pathwayDB_sort.iloc[id, 1]\n",
    "  selected_list = str(selected_genes).split(';')  # string으로 바꿔야 가능\n",
    "  intersection = list(set(selected_list) & set(geneSet_list))\n",
    "  selected_pvalue = (round(hypergeom.sf(len(intersection)-1, 20501,\n",
    "                                        len(geneSet_list), len(selected_list)), 4))\n",
    "  pvalue.append(selected_pvalue)\n",
    "  selected_pathway = pathwayDB_sort.iloc[id, 0]\n",
    "  pathway.append(selected_pathway)\n",
    "  size.append(len(selected_list))\n",
    "  overlap.append(len(intersection))\n",
    "  selected_cancerLevel = pathwayDB_sort.iloc[id, 2]\n",
    "  cancerLevel.append(selected_cancerLevel)\n",
    "  \n",
    "  "
   ]
  },
  {
   "cell_type": "code",
   "execution_count": 85,
   "metadata": {},
   "outputs": [],
   "source": [
    "result_table = pd.DataFrame()\n",
    "result_table['pvalue'] = pvalue\n",
    "result_table['qvalue'] = qvalue\n",
    "result_table['pathway'] = pathway\n",
    "result_table['size'] = size\n",
    "result_table['overlap'] = overlap\n",
    "result_table['cancerLevel'] = cancerLevel"
   ]
  },
  {
   "cell_type": "code",
   "execution_count": 90,
   "metadata": {},
   "outputs": [],
   "source": [
    "result_table = result_table[result_table['pvalue'] < 1]"
   ]
  },
  {
   "cell_type": "code",
   "execution_count": 23,
   "metadata": {},
   "outputs": [
    {
     "data": {
      "text/html": "<div>\n<style scoped>\n    .dataframe tbody tr th:only-of-type {\n        vertical-align: middle;\n    }\n\n    .dataframe tbody tr th {\n        vertical-align: top;\n    }\n\n    .dataframe thead th {\n        text-align: right;\n    }\n</style>\n<table border=\"1\" class=\"dataframe\">\n  <thead>\n    <tr style=\"text-align: right;\">\n      <th></th>\n      <th>pvalue</th>\n      <th>pathway</th>\n      <th>size</th>\n      <th>overlap</th>\n      <th>cancerLevel</th>\n    </tr>\n  </thead>\n  <tbody>\n    <tr>\n      <th>0</th>\n      <td>0.0000</td>\n      <td>Signal Transduction</td>\n      <td>830</td>\n      <td>120</td>\n      <td>1.0</td>\n    </tr>\n    <tr>\n      <th>1</th>\n      <td>0.0000</td>\n      <td>Pathways in cancer - Homo sapiens (human)</td>\n      <td>311</td>\n      <td>37</td>\n      <td>1.0</td>\n    </tr>\n    <tr>\n      <th>2</th>\n      <td>0.0000</td>\n      <td>Signaling by Receptor Tyrosine Kinases</td>\n      <td>237</td>\n      <td>30</td>\n      <td>1.0</td>\n    </tr>\n    <tr>\n      <th>3</th>\n      <td>0.0000</td>\n      <td>EGFR1</td>\n      <td>230</td>\n      <td>22</td>\n      <td>1.0</td>\n    </tr>\n    <tr>\n      <th>4</th>\n      <td>0.0000</td>\n      <td>Diseases of signal transduction by growth fact...</td>\n      <td>162</td>\n      <td>19</td>\n      <td>1.0</td>\n    </tr>\n    <tr>\n      <th>...</th>\n      <td>...</td>\n      <td>...</td>\n      <td>...</td>\n      <td>...</td>\n      <td>...</td>\n    </tr>\n    <tr>\n      <th>1518</th>\n      <td>0.0060</td>\n      <td>Dual incision in TC-NER</td>\n      <td>20</td>\n      <td>2</td>\n      <td>1.0</td>\n    </tr>\n    <tr>\n      <th>1519</th>\n      <td>0.0060</td>\n      <td>Regulation of insulin secretion</td>\n      <td>20</td>\n      <td>2</td>\n      <td>1.0</td>\n    </tr>\n    <tr>\n      <th>1531</th>\n      <td>0.1366</td>\n      <td>Morphine addiction - Homo sapiens (human)</td>\n      <td>25</td>\n      <td>1</td>\n      <td>1.0</td>\n    </tr>\n    <tr>\n      <th>1532</th>\n      <td>0.1366</td>\n      <td>Opioid Signalling</td>\n      <td>25</td>\n      <td>1</td>\n      <td>1.0</td>\n    </tr>\n    <tr>\n      <th>1594</th>\n      <td>0.0000</td>\n      <td>Cargo recognition for clathrin-mediated endocy...</td>\n      <td>27</td>\n      <td>4</td>\n      <td>1.0</td>\n    </tr>\n  </tbody>\n</table>\n<p>1498 rows × 5 columns</p>\n</div>",
      "text/plain": "      pvalue                                            pathway  size  \\\n0     0.0000                                Signal Transduction   830   \n1     0.0000          Pathways in cancer - Homo sapiens (human)   311   \n2     0.0000             Signaling by Receptor Tyrosine Kinases   237   \n3     0.0000                                              EGFR1   230   \n4     0.0000  Diseases of signal transduction by growth fact...   162   \n...      ...                                                ...   ...   \n1518  0.0060                            Dual incision in TC-NER    20   \n1519  0.0060                    Regulation of insulin secretion    20   \n1531  0.1366          Morphine addiction - Homo sapiens (human)    25   \n1532  0.1366                                  Opioid Signalling    25   \n1594  0.0000  Cargo recognition for clathrin-mediated endocy...    27   \n\n      overlap  cancerLevel  \n0         120          1.0  \n1          37          1.0  \n2          30          1.0  \n3          22          1.0  \n4          19          1.0  \n...       ...          ...  \n1518        2          1.0  \n1519        2          1.0  \n1531        1          1.0  \n1532        1          1.0  \n1594        4          1.0  \n\n[1498 rows x 5 columns]"
     },
     "execution_count": 23,
     "metadata": {},
     "output_type": "execute_result"
    }
   ],
   "source": [
    "result_table[result_table['cancerLevel'] == 1]"
   ]
  },
  {
   "cell_type": "code",
   "execution_count": 19,
   "metadata": {},
   "outputs": [
    {
     "data": {
      "text/html": "<div>\n<style scoped>\n    .dataframe tbody tr th:only-of-type {\n        vertical-align: middle;\n    }\n\n    .dataframe tbody tr th {\n        vertical-align: top;\n    }\n\n    .dataframe thead th {\n        text-align: right;\n    }\n</style>\n<table border=\"1\" class=\"dataframe\">\n  <thead>\n    <tr style=\"text-align: right;\">\n      <th></th>\n      <th>p_value</th>\n      <th>pathway</th>\n      <th>source</th>\n      <th>overlap_entrez</th>\n      <th>overlap_hgnc_symbol</th>\n      <th>size</th>\n      <th>overlap</th>\n      <th>cancer_level</th>\n    </tr>\n  </thead>\n  <tbody>\n    <tr>\n      <th>4471</th>\n      <td>1.0</td>\n      <td>Biosynthesis of the N-glycan precursor (dolich...</td>\n      <td>Reactome</td>\n      <td>84620;7264</td>\n      <td>ST6GAL2;GFUS</td>\n      <td>77</td>\n      <td>2</td>\n      <td>4.0</td>\n    </tr>\n    <tr>\n      <th>4483</th>\n      <td>1.0</td>\n      <td>FCGR activation</td>\n      <td>Reactome</td>\n      <td>3535;6850</td>\n      <td>IGL;SYK</td>\n      <td>88</td>\n      <td>2</td>\n      <td>4.0</td>\n    </tr>\n    <tr>\n      <th>4541</th>\n      <td>1.0</td>\n      <td>Olfactory Signaling Pathway</td>\n      <td>Reactome</td>\n      <td>219958;26245;128360;282770;219447;219874;39014...</td>\n      <td>OR1S2;OR2M4;OR10T2;OR10AG1;OR5AS1;OR6T1;OR5W2;...</td>\n      <td>425</td>\n      <td>28</td>\n      <td>4.0</td>\n    </tr>\n    <tr>\n      <th>4542</th>\n      <td>1.0</td>\n      <td>Sensory Perception</td>\n      <td>Reactome</td>\n      <td>5578;219958;2059;6382;7430;2934;219447;26245;1...</td>\n      <td>PRKCA;OR1S2;EPS8;SDC1;EZR;GSN;OR5AS1;OR2M4;OR1...</td>\n      <td>585</td>\n      <td>55</td>\n      <td>4.0</td>\n    </tr>\n    <tr>\n      <th>4545</th>\n      <td>1.0</td>\n      <td>Defensins</td>\n      <td>Reactome</td>\n      <td>1672</td>\n      <td>DEFB1</td>\n      <td>54</td>\n      <td>1</td>\n      <td>4.0</td>\n    </tr>\n    <tr>\n      <th>4569</th>\n      <td>1.0</td>\n      <td>Synthesis of substrates in N-glycan biosythesis</td>\n      <td>Reactome</td>\n      <td>84620;7264</td>\n      <td>ST6GAL2;GFUS</td>\n      <td>63</td>\n      <td>2</td>\n      <td>4.0</td>\n    </tr>\n    <tr>\n      <th>4638</th>\n      <td>1.0</td>\n      <td>Mitochondrial translation elongation</td>\n      <td>Reactome</td>\n      <td>64979;54998</td>\n      <td>MRPL36;AURKAIP1</td>\n      <td>88</td>\n      <td>2</td>\n      <td>4.0</td>\n    </tr>\n    <tr>\n      <th>4656</th>\n      <td>1.0</td>\n      <td>rRNA processing</td>\n      <td>Reactome</td>\n      <td>6194;10436</td>\n      <td>RPS6;EMG1</td>\n      <td>64</td>\n      <td>2</td>\n      <td>4.0</td>\n    </tr>\n    <tr>\n      <th>4660</th>\n      <td>1.0</td>\n      <td>Mitochondrial translation termination</td>\n      <td>Reactome</td>\n      <td>64979;54998</td>\n      <td>MRPL36;AURKAIP1</td>\n      <td>88</td>\n      <td>2</td>\n      <td>4.0</td>\n    </tr>\n    <tr>\n      <th>4661</th>\n      <td>1.0</td>\n      <td>Mitochondrial translation</td>\n      <td>Reactome</td>\n      <td>64979;54998</td>\n      <td>MRPL36;AURKAIP1</td>\n      <td>94</td>\n      <td>2</td>\n      <td>4.0</td>\n    </tr>\n  </tbody>\n</table>\n</div>",
      "text/plain": "      p_value                                            pathway    source  \\\n4471      1.0  Biosynthesis of the N-glycan precursor (dolich...  Reactome   \n4483      1.0                                    FCGR activation  Reactome   \n4541      1.0                        Olfactory Signaling Pathway  Reactome   \n4542      1.0                                 Sensory Perception  Reactome   \n4545      1.0                                          Defensins  Reactome   \n4569      1.0    Synthesis of substrates in N-glycan biosythesis  Reactome   \n4638      1.0               Mitochondrial translation elongation  Reactome   \n4656      1.0                                    rRNA processing  Reactome   \n4660      1.0              Mitochondrial translation termination  Reactome   \n4661      1.0                          Mitochondrial translation  Reactome   \n\n                                         overlap_entrez  \\\n4471                                         84620;7264   \n4483                                          3535;6850   \n4541  219958;26245;128360;282770;219447;219874;39014...   \n4542  5578;219958;2059;6382;7430;2934;219447;26245;1...   \n4545                                               1672   \n4569                                         84620;7264   \n4638                                        64979;54998   \n4656                                         6194;10436   \n4660                                        64979;54998   \n4661                                        64979;54998   \n\n                                    overlap_hgnc_symbol  size  overlap  \\\n4471                                       ST6GAL2;GFUS    77        2   \n4483                                            IGL;SYK    88        2   \n4541  OR1S2;OR2M4;OR10T2;OR10AG1;OR5AS1;OR6T1;OR5W2;...   425       28   \n4542  PRKCA;OR1S2;EPS8;SDC1;EZR;GSN;OR5AS1;OR2M4;OR1...   585       55   \n4545                                              DEFB1    54        1   \n4569                                       ST6GAL2;GFUS    63        2   \n4638                                    MRPL36;AURKAIP1    88        2   \n4656                                          RPS6;EMG1    64        2   \n4660                                    MRPL36;AURKAIP1    88        2   \n4661                                    MRPL36;AURKAIP1    94        2   \n\n      cancer_level  \n4471           4.0  \n4483           4.0  \n4541           4.0  \n4542           4.0  \n4545           4.0  \n4569           4.0  \n4638           4.0  \n4656           4.0  \n4660           4.0  \n4661           4.0  "
     },
     "execution_count": 19,
     "metadata": {},
     "output_type": "execute_result"
    }
   ],
   "source": [
    "pathwayDB.tail(10)"
   ]
  },
  {
   "cell_type": "code",
   "execution_count": 115,
   "metadata": {},
   "outputs": [],
   "source": [
    "q3000 = pd.read_csv('3000.txt', sep=\"\\t\")\n",
    "ccg = pd.read_csv('ccg.csv')\n",
    "compare = pd.read_csv('gdac_entrez.csv')"
   ]
  },
  {
   "cell_type": "code",
   "execution_count": null,
   "metadata": {},
   "outputs": [],
   "source": [
    "ccg.iloc[:,1].tolist()"
   ]
  },
  {
   "cell_type": "code",
   "execution_count": 139,
   "metadata": {},
   "outputs": [],
   "source": [
    "    pvalue = []\n",
    "    size = []\n",
    "    overlap = []\n",
    "    cancerLevel = []\n",
    "    entrezId = []\n",
    "    symbol = []"
   ]
  },
  {
   "cell_type": "code",
   "execution_count": 140,
   "metadata": {},
   "outputs": [],
   "source": [
    "        ccgList = ccg.iloc[:, 1].tolist()\n",
    "        intersection = list(set(geneSet_list) & set(ccgList))\n",
    "        selected_pvalue = (round(hypergeom.sf(len(intersection)-1, 20501,\n",
    "                                              len(geneSet_list), len(ccgList)), 9))\n",
    "        pvalue.append(selected_pvalue)\n",
    "        size.append(len(geneSet_list))\n",
    "        overlap.append(len(intersection))"
   ]
  },
  {
   "cell_type": "code",
   "execution_count": 143,
   "metadata": {},
   "outputs": [
    {
     "data": {
      "text/plain": "'1026,6658,1027,1540,2566,4615,90627,2057,9735,3082,525,23566,2064,2065,5139,139285,83478,6678,10267,5660,29,200734,51741,10272,7201,5155,1063,23081,558,2100,1080,3640,6714,9787,5179,3643,84033,60485,2118,55879,9294,7248,595,598,1627,92,56924,23645,5727,6752,4193,2658,2146,8294,8295,3688,6249,5228,5741,54894,2670,6256,9844,120,5241,6778,8312,8313,124540,8322,3718,6279,4233,51339,3726,142,657,2194,54778,8854,5783,9886,10399,673,4772,154796,8877,5294,57007,2736,2737,51377,5296,4790,84152,187,701,7874,2242,1739,91851,2252,57551,2767,3280,1234,207,2255,2263,2776,10457,5338,5336,259293,7391,57569,6885,7409,23286,7415,9462,1785,57082,3845,5898,5899,5906,5908,10006,6934,6423,799,2852,8997,1832,6446,817,4914,1843,7474,2357,4916,8503,6456,9530,1852,283455,4928,51523,836,3397,330,332,25937,142678,8535,857,7514,56667,5468,9564,2911,6497,865,7525,79718,2919,26469,1387,51564,5998,85360,369,6000,80243,55160,7039,387,388,22919,23432,8074,399,3984,7058,9619,55704,9112,3480,26524,7074,26018,1956,9639,1452,9644,10672,1975,1977,5563,11197,6591,5058,340419,51138,4040,8648,11214,1999,5585,7124,5592,84441,1500,9181,4066,23013,2534,3561,3562,8682,83439,2033,2034,27123,4087,4089,2554,10235,6654'"
     },
     "execution_count": 143,
     "metadata": {},
     "output_type": "execute_result"
    }
   ],
   "source": [
    "';'.join(str(e) for e in intersection)"
   ]
  },
  {
   "cell_type": "code",
   "execution_count": 156,
   "metadata": {},
   "outputs": [],
   "source": [
    "q3000 = pd.read_csv('3000.txt', sep=\"\\t\")\n",
    "ccg = pd.read_csv('ccg.csv')\n",
    "compare = pd.read_csv('gdac_entrez.csv')"
   ]
  },
  {
   "cell_type": "code",
   "execution_count": 145,
   "metadata": {},
   "outputs": [],
   "source": [
    "geneSet = '9112,3480,26524,7074,26018,1956,9639,1452,9644,10672,1975,1977,5563,11197,6591,5058,340419,51138,4040,8648,11214,1999,5585,7124,5592,84441,1500,9181,4066,23013,2534,3561,3562,8682,83439,2033,2034,27123,4087,4089'"
   ]
  },
  {
   "cell_type": "code",
   "execution_count": 147,
   "metadata": {},
   "outputs": [],
   "source": [
    "geneSetType='int'"
   ]
  },
  {
   "cell_type": "code",
   "execution_count": 146,
   "metadata": {},
   "outputs": [],
   "source": [
    "    geneSet_list = geneSet.replace(\" \", \"\")\n",
    "    geneSet_list = geneSet.split(',')"
   ]
  },
  {
   "cell_type": "code",
   "execution_count": 148,
   "metadata": {},
   "outputs": [],
   "source": [
    "    if(geneSetType == 'int'):\n",
    "        geneSet_list = [int(s) for s in geneSet_list]"
   ]
  },
  {
   "cell_type": "code",
   "execution_count": 171,
   "metadata": {},
   "outputs": [],
   "source": [
    "        ccgList = ccg.iloc[:, 1].tolist()\n",
    "        intersection = list(set(geneSet_list) & set(ccgList))\n",
    "        pvalue = (round(hypergeom.sf(len(intersection)-1, 20501,\n",
    "                                              len(geneSet_list), len(ccgList)), 9))\n",
    "        size = len(geneSet_list)\n",
    "        overlap = len(intersection)\n",
    "        intersection_str = ';'.join(str(e) for e in intersection)\n",
    "        entrezId = intersection_str\n",
    "\n",
    "        # size가 len(geneSet_list)\n",
    "        gsize = len(geneSet_list)-5\n",
    "        fdr005 = q3000.iloc[gsize, 0]\n",
    "        fdr001 = q3000.iloc[gsize, 1]\n",
    "        fdr0001 = q3000.iloc[gsize, 2]\n",
    "        \n",
    "        if selected_pvalue < fdr0001:\n",
    "            cancerLevel = 1\n",
    "        elif selected_pvalue < fdr001:\n",
    "            cancerLevel = 2\n",
    "        elif selected_pvalue < fdr005:\n",
    "            cancerLevel = 3\n",
    "        else:\n",
    "            cancerLevel = 4"
   ]
  },
  {
   "cell_type": "code",
   "execution_count": 166,
   "metadata": {},
   "outputs": [
    {
     "data": {
      "text/plain": "[1]"
     },
     "execution_count": 166,
     "metadata": {},
     "output_type": "execute_result"
    }
   ],
   "source": [
    "cancerLevel"
   ]
  },
  {
   "cell_type": "code",
   "execution_count": 172,
   "metadata": {},
   "outputs": [],
   "source": [
    "    result_table = {\n",
    "        'pvalue' : pvalue,\n",
    "        'size' : size,\n",
    "        'overlap' : overlap,\n",
    "        'entrezId' : entrezId,\n",
    "        'symbol' : symbol,\n",
    "        'cancerLevel' : cancerLevel ,\n",
    "    }"
   ]
  },
  {
   "cell_type": "code",
   "execution_count": 173,
   "metadata": {},
   "outputs": [
    {
     "data": {
      "text/plain": "{'pvalue': 0.0,\n 'size': 40,\n 'overlap': 40,\n 'entrezId': '9112;3480;26524;7074;26018;1956;9639;1452;9644;10672;1975;1977;5563;11197;6591;5058;340419;51138;4040;8648;11214;1999;5585;7124;5592;84441;1500;9181;4066;23013;2534;3561;3562;8682;83439;2033;2034;27123;4087;4089',\n 'symbol': [],\n 'cancerLevel': 1}"
     },
     "execution_count": 173,
     "metadata": {},
     "output_type": "execute_result"
    }
   ],
   "source": [
    "result_table"
   ]
  }
 ],
 "metadata": {
  "kernelspec": {
   "display_name": "Python 3.9.7 64-bit",
   "metadata": {
    "interpreter": {
     "hash": "7812ea015bdcee6f23a998adcdd2ef97c151c0c241b7b7070987d9313e41299d"
    }
   },
   "name": "python3"
  },
  "language_info": {
   "codemirror_mode": {
    "name": "ipython",
    "version": 3
   },
   "file_extension": ".py",
   "mimetype": "text/x-python",
   "name": "python",
   "nbconvert_exporter": "python",
   "pygments_lexer": "ipython3",
   "version": "3.9.7"
  },
  "orig_nbformat": 2
 },
 "nbformat": 4,
 "nbformat_minor": 2
}